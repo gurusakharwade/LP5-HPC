{
 "cells": [
  {
   "cell_type": "code",
   "execution_count": 2,
   "id": "38f56730",
   "metadata": {},
   "outputs": [
    {
     "name": "stderr",
     "output_type": "stream",
     "text": [
      "C:\\Users\\Rohit Bhapkar\\anaconda3\\lib\\site-packages\\numpy\\_distributor_init.py:30: UserWarning: loaded more than 1 DLL from .libs:\n",
      "C:\\Users\\Rohit Bhapkar\\anaconda3\\lib\\site-packages\\numpy\\.libs\\libopenblas.EL2C6PLE4ZYW3ECEVIV3OXXGRN2NRFM2.gfortran-win_amd64.dll\n",
      "C:\\Users\\Rohit Bhapkar\\anaconda3\\lib\\site-packages\\numpy\\.libs\\libopenblas.FB5AE2TYXYH2IJRDKGDGQ3XBKLKTF43H.gfortran-win_amd64.dll\n",
      "C:\\Users\\Rohit Bhapkar\\anaconda3\\lib\\site-packages\\numpy\\.libs\\libopenblas.qvlo2t66wepi7jz63ps3hmohfey472bc.gfortran-win_amd64.dll\n",
      "  warnings.warn(\"loaded more than 1 DLL from .libs:\"\n"
     ]
    }
   ],
   "source": [
    "import numpy as np\n",
    "import pandas as pd\n",
    "import matplotlib.pyplot as plt\n",
    "%matplotlib inline"
   ]
  },
  {
   "cell_type": "code",
   "execution_count": 3,
   "id": "82e2154b",
   "metadata": {},
   "outputs": [
    {
     "data": {
      "text/html": [
       "<div>\n",
       "<style scoped>\n",
       "    .dataframe tbody tr th:only-of-type {\n",
       "        vertical-align: middle;\n",
       "    }\n",
       "\n",
       "    .dataframe tbody tr th {\n",
       "        vertical-align: top;\n",
       "    }\n",
       "\n",
       "    .dataframe thead th {\n",
       "        text-align: right;\n",
       "    }\n",
       "</style>\n",
       "<table border=\"1\" class=\"dataframe\">\n",
       "  <thead>\n",
       "    <tr style=\"text-align: right;\">\n",
       "      <th></th>\n",
       "      <th>Date</th>\n",
       "      <th>Open</th>\n",
       "      <th>High</th>\n",
       "      <th>Low</th>\n",
       "      <th>Close</th>\n",
       "      <th>Adj Close</th>\n",
       "      <th>Volume</th>\n",
       "    </tr>\n",
       "  </thead>\n",
       "  <tbody>\n",
       "    <tr>\n",
       "      <th>0</th>\n",
       "      <td>2013-01-02</td>\n",
       "      <td>357.385559</td>\n",
       "      <td>361.151062</td>\n",
       "      <td>355.959839</td>\n",
       "      <td>359.288177</td>\n",
       "      <td>359.288177</td>\n",
       "      <td>5115500</td>\n",
       "    </tr>\n",
       "    <tr>\n",
       "      <th>1</th>\n",
       "      <td>2013-01-03</td>\n",
       "      <td>360.122742</td>\n",
       "      <td>363.600128</td>\n",
       "      <td>358.031342</td>\n",
       "      <td>359.496826</td>\n",
       "      <td>359.496826</td>\n",
       "      <td>4666500</td>\n",
       "    </tr>\n",
       "    <tr>\n",
       "      <th>2</th>\n",
       "      <td>2013-01-04</td>\n",
       "      <td>362.313507</td>\n",
       "      <td>368.339294</td>\n",
       "      <td>361.488861</td>\n",
       "      <td>366.600616</td>\n",
       "      <td>366.600616</td>\n",
       "      <td>5562800</td>\n",
       "    </tr>\n",
       "    <tr>\n",
       "      <th>3</th>\n",
       "      <td>2013-01-07</td>\n",
       "      <td>365.348755</td>\n",
       "      <td>367.301056</td>\n",
       "      <td>362.929504</td>\n",
       "      <td>365.001007</td>\n",
       "      <td>365.001007</td>\n",
       "      <td>3332900</td>\n",
       "    </tr>\n",
       "    <tr>\n",
       "      <th>4</th>\n",
       "      <td>2013-01-08</td>\n",
       "      <td>365.393463</td>\n",
       "      <td>365.771027</td>\n",
       "      <td>359.874359</td>\n",
       "      <td>364.280701</td>\n",
       "      <td>364.280701</td>\n",
       "      <td>3373900</td>\n",
       "    </tr>\n",
       "  </tbody>\n",
       "</table>\n",
       "</div>"
      ],
      "text/plain": [
       "         Date        Open        High         Low       Close   Adj Close  \\\n",
       "0  2013-01-02  357.385559  361.151062  355.959839  359.288177  359.288177   \n",
       "1  2013-01-03  360.122742  363.600128  358.031342  359.496826  359.496826   \n",
       "2  2013-01-04  362.313507  368.339294  361.488861  366.600616  366.600616   \n",
       "3  2013-01-07  365.348755  367.301056  362.929504  365.001007  365.001007   \n",
       "4  2013-01-08  365.393463  365.771027  359.874359  364.280701  364.280701   \n",
       "\n",
       "    Volume  \n",
       "0  5115500  \n",
       "1  4666500  \n",
       "2  5562800  \n",
       "3  3332900  \n",
       "4  3373900  "
      ]
     },
     "execution_count": 3,
     "metadata": {},
     "output_type": "execute_result"
    }
   ],
   "source": [
    "train = pd.read_csv(\"trainset.csv\")\n",
    "train.head()"
   ]
  },
  {
   "cell_type": "code",
   "execution_count": 4,
   "id": "830b53a7",
   "metadata": {},
   "outputs": [
    {
     "name": "stdout",
     "output_type": "stream",
     "text": [
      "<class 'pandas.core.frame.DataFrame'>\n",
      "RangeIndex: 1259 entries, 0 to 1258\n",
      "Data columns (total 7 columns):\n",
      " #   Column     Non-Null Count  Dtype  \n",
      "---  ------     --------------  -----  \n",
      " 0   Date       1259 non-null   object \n",
      " 1   Open       1259 non-null   float64\n",
      " 2   High       1259 non-null   float64\n",
      " 3   Low        1259 non-null   float64\n",
      " 4   Close      1259 non-null   float64\n",
      " 5   Adj Close  1259 non-null   float64\n",
      " 6   Volume     1259 non-null   int64  \n",
      "dtypes: float64(5), int64(1), object(1)\n",
      "memory usage: 69.0+ KB\n"
     ]
    }
   ],
   "source": [
    "train.info()"
   ]
  },
  {
   "cell_type": "code",
   "execution_count": 5,
   "id": "6d8be4da",
   "metadata": {},
   "outputs": [
    {
     "data": {
      "text/html": [
       "<div>\n",
       "<style scoped>\n",
       "    .dataframe tbody tr th:only-of-type {\n",
       "        vertical-align: middle;\n",
       "    }\n",
       "\n",
       "    .dataframe tbody tr th {\n",
       "        vertical-align: top;\n",
       "    }\n",
       "\n",
       "    .dataframe thead th {\n",
       "        text-align: right;\n",
       "    }\n",
       "</style>\n",
       "<table border=\"1\" class=\"dataframe\">\n",
       "  <thead>\n",
       "    <tr style=\"text-align: right;\">\n",
       "      <th></th>\n",
       "      <th>Open</th>\n",
       "      <th>High</th>\n",
       "      <th>Low</th>\n",
       "      <th>Close</th>\n",
       "      <th>Adj Close</th>\n",
       "      <th>Volume</th>\n",
       "    </tr>\n",
       "  </thead>\n",
       "  <tbody>\n",
       "    <tr>\n",
       "      <th>count</th>\n",
       "      <td>1259.000000</td>\n",
       "      <td>1259.000000</td>\n",
       "      <td>1259.000000</td>\n",
       "      <td>1259.000000</td>\n",
       "      <td>1259.000000</td>\n",
       "      <td>1.259000e+03</td>\n",
       "    </tr>\n",
       "    <tr>\n",
       "      <th>mean</th>\n",
       "      <td>652.704082</td>\n",
       "      <td>657.475653</td>\n",
       "      <td>647.433700</td>\n",
       "      <td>652.657015</td>\n",
       "      <td>652.657015</td>\n",
       "      <td>2.414928e+06</td>\n",
       "    </tr>\n",
       "    <tr>\n",
       "      <th>std</th>\n",
       "      <td>175.630574</td>\n",
       "      <td>176.627416</td>\n",
       "      <td>174.732814</td>\n",
       "      <td>175.820993</td>\n",
       "      <td>175.820993</td>\n",
       "      <td>1.672160e+06</td>\n",
       "    </tr>\n",
       "    <tr>\n",
       "      <th>min</th>\n",
       "      <td>350.053253</td>\n",
       "      <td>350.391052</td>\n",
       "      <td>345.512787</td>\n",
       "      <td>349.164032</td>\n",
       "      <td>349.164032</td>\n",
       "      <td>7.900000e+03</td>\n",
       "    </tr>\n",
       "    <tr>\n",
       "      <th>25%</th>\n",
       "      <td>528.287079</td>\n",
       "      <td>532.615204</td>\n",
       "      <td>524.232483</td>\n",
       "      <td>528.429413</td>\n",
       "      <td>528.429413</td>\n",
       "      <td>1.336900e+06</td>\n",
       "    </tr>\n",
       "    <tr>\n",
       "      <th>50%</th>\n",
       "      <td>600.002563</td>\n",
       "      <td>603.236511</td>\n",
       "      <td>594.453674</td>\n",
       "      <td>598.005554</td>\n",
       "      <td>598.005554</td>\n",
       "      <td>1.842300e+06</td>\n",
       "    </tr>\n",
       "    <tr>\n",
       "      <th>75%</th>\n",
       "      <td>774.015015</td>\n",
       "      <td>779.120025</td>\n",
       "      <td>768.662506</td>\n",
       "      <td>772.720001</td>\n",
       "      <td>772.720001</td>\n",
       "      <td>3.090850e+06</td>\n",
       "    </tr>\n",
       "    <tr>\n",
       "      <th>max</th>\n",
       "      <td>1075.199951</td>\n",
       "      <td>1078.489990</td>\n",
       "      <td>1063.550049</td>\n",
       "      <td>1077.140015</td>\n",
       "      <td>1077.140015</td>\n",
       "      <td>2.328310e+07</td>\n",
       "    </tr>\n",
       "  </tbody>\n",
       "</table>\n",
       "</div>"
      ],
      "text/plain": [
       "              Open         High          Low        Close    Adj Close  \\\n",
       "count  1259.000000  1259.000000  1259.000000  1259.000000  1259.000000   \n",
       "mean    652.704082   657.475653   647.433700   652.657015   652.657015   \n",
       "std     175.630574   176.627416   174.732814   175.820993   175.820993   \n",
       "min     350.053253   350.391052   345.512787   349.164032   349.164032   \n",
       "25%     528.287079   532.615204   524.232483   528.429413   528.429413   \n",
       "50%     600.002563   603.236511   594.453674   598.005554   598.005554   \n",
       "75%     774.015015   779.120025   768.662506   772.720001   772.720001   \n",
       "max    1075.199951  1078.489990  1063.550049  1077.140015  1077.140015   \n",
       "\n",
       "             Volume  \n",
       "count  1.259000e+03  \n",
       "mean   2.414928e+06  \n",
       "std    1.672160e+06  \n",
       "min    7.900000e+03  \n",
       "25%    1.336900e+06  \n",
       "50%    1.842300e+06  \n",
       "75%    3.090850e+06  \n",
       "max    2.328310e+07  "
      ]
     },
     "execution_count": 5,
     "metadata": {},
     "output_type": "execute_result"
    }
   ],
   "source": [
    "train.describe()"
   ]
  },
  {
   "cell_type": "code",
   "execution_count": 6,
   "id": "c1accf47",
   "metadata": {},
   "outputs": [
    {
     "data": {
      "text/plain": [
       "(1259, 7)"
      ]
     },
     "execution_count": 6,
     "metadata": {},
     "output_type": "execute_result"
    }
   ],
   "source": [
    "train.shape"
   ]
  },
  {
   "cell_type": "markdown",
   "id": "8f90327d",
   "metadata": {},
   "source": [
    "# Plotting\n"
   ]
  },
  {
   "cell_type": "code",
   "execution_count": 7,
   "id": "aa8e8fcf",
   "metadata": {},
   "outputs": [
    {
     "data": {
      "text/plain": [
       "<AxesSubplot:>"
      ]
     },
     "execution_count": 7,
     "metadata": {},
     "output_type": "execute_result"
    },
    {
     "data": {
      "image/png": "[encoded data removed]",
      "text/plain": [
       "<Figure size 432x288 with 1 Axes>"
      ]
     },
     "metadata": {
      "needs_background": "light"
     },
     "output_type": "display_data"
    }
   ],
   "source": [
    "#plot closing price\n",
    "train['Adj Close'].plot()\n",
    "# plt.title(f\"Closing Price of Google\")\n"
   ]
  },
  {
   "cell_type": "code",
   "execution_count": 7,
   "id": "f6985b51",
   "metadata": {},
   "outputs": [
    {
     "data": {
      "text/plain": [
       "Text(0.5, 1.0, 'Shares Traded')"
      ]
     },
     "execution_count": 7,
     "metadata": {},
     "output_type": "execute_result"
    },
    {
     "data": {
      "image/png": "[encoded data removed]",
      "text/plain": [
       "<Figure size 432x288 with 1 Axes>"
      ]
     },
     "metadata": {
      "needs_background": "light"
     },
     "output_type": "display_data"
    }
   ],
   "source": [
    "#Volume Plot\n",
    "train['Volume'].plot()\n",
    "plt.title(f\"Shares Traded\")"
   ]
  },
  {
   "cell_type": "code",
   "execution_count": 10,
   "id": "e326454d",
   "metadata": {},
   "outputs": [
    {
     "data": {
      "text/plain": [
       "<AxesSubplot:>"
      ]
     },
     "execution_count": 10,
     "metadata": {},
     "output_type": "execute_result"
    },
    {
     "data": {
      "image/png": "[encoded data removed]",
      "text/plain": [
       "<Figure size 432x288 with 1 Axes>"
      ]
     },
     "metadata": {
      "needs_background": "light"
     },
     "output_type": "display_data"
    }
   ],
   "source": [
    "train['Open'].plot()"
   ]
  },
  {
   "cell_type": "code",
   "execution_count": 8,
   "id": "93e10c57",
   "metadata": {},
   "outputs": [
    {
     "data": {
      "text/plain": [
       "array([[ 357.385559],\n",
       "       [ 360.122742],\n",
       "       [ 362.313507],\n",
       "       ...,\n",
       "       [1057.390015],\n",
       "       [1051.599976],\n",
       "       [1046.719971]])"
      ]
     },
     "execution_count": 8,
     "metadata": {},
     "output_type": "execute_result"
    }
   ],
   "source": [
    "train=train.iloc[:,1:2].values\n",
    "train"
   ]
  },
  {
   "cell_type": "code",
   "execution_count": 9,
   "id": "a093b20f",
   "metadata": {},
   "outputs": [
    {
     "data": {
      "text/plain": [
       "array([[0.01011148],\n",
       "       [0.01388614],\n",
       "       [0.01690727],\n",
       "       ...,\n",
       "       [0.97543954],\n",
       "       [0.9674549 ],\n",
       "       [0.96072522]])"
      ]
     },
     "execution_count": 9,
     "metadata": {},
     "output_type": "execute_result"
    }
   ],
   "source": [
    "from sklearn.preprocessing import MinMaxScaler\n",
    "sc= MinMaxScaler()\n",
    "train=sc.fit_transform(train)\n",
    "train"
   ]
  },
  {
   "cell_type": "code",
   "execution_count": 10,
   "id": "34beb947",
   "metadata": {},
   "outputs": [],
   "source": [
    "x_train= train[0:1257]\n",
    "y_train= train[1:1258]"
   ]
  },
  {
   "cell_type": "code",
   "execution_count": 11,
   "id": "a31e2d54",
   "metadata": {},
   "outputs": [],
   "source": [
    "x_train=np.reshape(x_train, (1257 , 1 , 1))"
   ]
  },
  {
   "cell_type": "code",
   "execution_count": 12,
   "id": "4f794831",
   "metadata": {},
   "outputs": [
    {
     "data": {
      "text/plain": [
       "array([[[0.01011148]],\n",
       "\n",
       "       [[0.01388614]],\n",
       "\n",
       "       [[0.01690727]],\n",
       "\n",
       "       ...,\n",
       "\n",
       "       [[0.9805695 ]],\n",
       "\n",
       "       [[0.97637719]],\n",
       "\n",
       "       [[0.97543954]]])"
      ]
     },
     "execution_count": 12,
     "metadata": {},
     "output_type": "execute_result"
    }
   ],
   "source": [
    "x_train"
   ]
  },
  {
   "cell_type": "code",
   "execution_count": 13,
   "id": "da9fa6f8",
   "metadata": {},
   "outputs": [
    {
     "data": {
      "text/plain": [
       "(1257, 1, 1)"
      ]
     },
     "execution_count": 13,
     "metadata": {},
     "output_type": "execute_result"
    }
   ],
   "source": [
    "x_train.shape"
   ]
  },
  {
   "cell_type": "code",
   "execution_count": 14,
   "id": "3ef75515",
   "metadata": {},
   "outputs": [],
   "source": [
    "from keras.models import Sequential\n",
    "from keras.layers import Dense\n",
    "from keras.layers import LSTM"
   ]
  },
  {
   "cell_type": "code",
   "execution_count": 22,
   "id": "e989d9dd",
   "metadata": {},
   "outputs": [
    {
     "name": "stdout",
     "output_type": "stream",
     "text": [
      "Epoch 1/200\n",
      "40/40 [==============================] - 1s 2ms/step - loss: 0.1456\n",
      "Epoch 2/200\n",
      "40/40 [==============================] - 0s 2ms/step - loss: 0.0951\n",
      "Epoch 3/200\n",
      "40/40 [==============================] - 0s 2ms/step - loss: 0.0690\n",
      "Epoch 4/200\n",
      "40/40 [==============================] - 0s 2ms/step - loss: 0.0578\n",
      "Epoch 5/200\n",
      "40/40 [==============================] - 0s 2ms/step - loss: 0.0534\n",
      "Epoch 6/200\n",
      "40/40 [==============================] - 0s 2ms/step - loss: 0.0516\n",
      "Epoch 7/200\n",
      "40/40 [==============================] - 0s 2ms/step - loss: 0.0505\n",
      "Epoch 8/200\n",
      "40/40 [==============================] - 0s 2ms/step - loss: 0.0494\n",
      "Epoch 9/200\n",
      "40/40 [==============================] - 0s 2ms/step - loss: 0.0483\n",
      "Epoch 10/200\n",
      "40/40 [==============================] - 0s 2ms/step - loss: 0.0472\n",
      "Epoch 11/200\n",
      "40/40 [==============================] - 0s 2ms/step - loss: 0.0460\n",
      "Epoch 12/200\n",
      "40/40 [==============================] - 0s 2ms/step - loss: 0.0448\n",
      "Epoch 13/200\n",
      "40/40 [==============================] - 0s 2ms/step - loss: 0.0436\n",
      "Epoch 14/200\n",
      "40/40 [==============================] - 0s 2ms/step - loss: 0.0424\n",
      "Epoch 15/200\n",
      "40/40 [==============================] - 0s 2ms/step - loss: 0.0412\n",
      "Epoch 16/200\n",
      "40/40 [==============================] - 0s 2ms/step - loss: 0.0399\n",
      "Epoch 17/200\n",
      "40/40 [==============================] - 0s 2ms/step - loss: 0.0387\n",
      "Epoch 18/200\n",
      "40/40 [==============================] - 0s 2ms/step - loss: 0.0374\n",
      "Epoch 19/200\n",
      "40/40 [==============================] - 0s 2ms/step - loss: 0.0361\n",
      "Epoch 20/200\n",
      "40/40 [==============================] - 0s 2ms/step - loss: 0.0348\n",
      "Epoch 21/200\n",
      "40/40 [==============================] - 0s 2ms/step - loss: 0.0335\n",
      "Epoch 22/200\n",
      "40/40 [==============================] - 0s 2ms/step - loss: 0.0322\n",
      "Epoch 23/200\n",
      "40/40 [==============================] - 0s 2ms/step - loss: 0.0308\n",
      "Epoch 24/200\n",
      "40/40 [==============================] - 0s 2ms/step - loss: 0.0295\n",
      "Epoch 25/200\n",
      "40/40 [==============================] - 0s 2ms/step - loss: 0.0281\n",
      "Epoch 26/200\n",
      "40/40 [==============================] - 0s 2ms/step - loss: 0.0268\n",
      "Epoch 27/200\n",
      "40/40 [==============================] - 0s 2ms/step - loss: 0.0255\n",
      "Epoch 28/200\n",
      "40/40 [==============================] - 0s 2ms/step - loss: 0.0242\n",
      "Epoch 29/200\n",
      "40/40 [==============================] - 0s 2ms/step - loss: 0.0229\n",
      "Epoch 30/200\n",
      "40/40 [==============================] - 0s 2ms/step - loss: 0.0216\n",
      "Epoch 31/200\n",
      "40/40 [==============================] - 0s 2ms/step - loss: 0.0203\n",
      "Epoch 32/200\n",
      "40/40 [==============================] - 0s 2ms/step - loss: 0.0190\n",
      "Epoch 33/200\n",
      "40/40 [==============================] - 0s 2ms/step - loss: 0.0177\n",
      "Epoch 34/200\n",
      "40/40 [==============================] - 0s 2ms/step - loss: 0.0165\n",
      "Epoch 35/200\n",
      "40/40 [==============================] - 0s 2ms/step - loss: 0.0154\n",
      "Epoch 36/200\n",
      "40/40 [==============================] - 0s 2ms/step - loss: 0.0142\n",
      "Epoch 37/200\n",
      "40/40 [==============================] - 0s 2ms/step - loss: 0.0131\n",
      "Epoch 38/200\n",
      "40/40 [==============================] - 0s 2ms/step - loss: 0.0120\n",
      "Epoch 39/200\n",
      "40/40 [==============================] - 0s 2ms/step - loss: 0.0110\n",
      "Epoch 40/200\n",
      "40/40 [==============================] - 0s 2ms/step - loss: 0.0100\n",
      "Epoch 41/200\n",
      "40/40 [==============================] - 0s 2ms/step - loss: 0.0090\n",
      "Epoch 42/200\n",
      "40/40 [==============================] - 0s 2ms/step - loss: 0.0082\n",
      "Epoch 43/200\n",
      "40/40 [==============================] - 0s 2ms/step - loss: 0.0073\n",
      "Epoch 44/200\n",
      "40/40 [==============================] - 0s 2ms/step - loss: 0.0065\n",
      "Epoch 45/200\n",
      "40/40 [==============================] - 0s 2ms/step - loss: 0.0058\n",
      "Epoch 46/200\n",
      "40/40 [==============================] - 0s 2ms/step - loss: 0.0051\n",
      "Epoch 47/200\n",
      "40/40 [==============================] - 0s 2ms/step - loss: 0.0045\n",
      "Epoch 48/200\n",
      "40/40 [==============================] - 0s 2ms/step - loss: 0.0039\n",
      "Epoch 49/200\n",
      "40/40 [==============================] - 0s 2ms/step - loss: 0.0034\n",
      "Epoch 50/200\n",
      "40/40 [==============================] - 0s 2ms/step - loss: 0.0030\n",
      "Epoch 51/200\n",
      "40/40 [==============================] - 0s 2ms/step - loss: 0.0026\n",
      "Epoch 52/200\n",
      "40/40 [==============================] - 0s 2ms/step - loss: 0.0022\n",
      "Epoch 53/200\n",
      "40/40 [==============================] - 0s 2ms/step - loss: 0.0019\n",
      "Epoch 54/200\n",
      "40/40 [==============================] - 0s 2ms/step - loss: 0.0016\n",
      "Epoch 55/200\n",
      "40/40 [==============================] - 0s 2ms/step - loss: 0.0014\n",
      "Epoch 56/200\n",
      "40/40 [==============================] - 0s 1ms/step - loss: 0.0012\n",
      "Epoch 57/200\n",
      "40/40 [==============================] - 0s 2ms/step - loss: 9.8674e-04\n",
      "Epoch 58/200\n",
      "40/40 [==============================] - 0s 2ms/step - loss: 8.4078e-04\n",
      "Epoch 59/200\n",
      "40/40 [==============================] - 0s 2ms/step - loss: 7.2083e-04\n",
      "Epoch 60/200\n",
      "40/40 [==============================] - 0s 2ms/step - loss: 6.1845e-04\n",
      "Epoch 61/200\n",
      "40/40 [==============================] - 0s 2ms/step - loss: 5.3451e-04\n",
      "Epoch 62/200\n",
      "40/40 [==============================] - 0s 2ms/step - loss: 4.6509e-04\n",
      "Epoch 63/200\n",
      "40/40 [==============================] - 0s 2ms/step - loss: 4.0969e-04\n",
      "Epoch 64/200\n",
      "40/40 [==============================] - 0s 2ms/step - loss: 3.6524e-04\n",
      "Epoch 65/200\n",
      "40/40 [==============================] - 0s 2ms/step - loss: 3.2968e-04\n",
      "Epoch 66/200\n",
      "40/40 [==============================] - 0s 2ms/step - loss: 3.0264e-04\n",
      "Epoch 67/200\n",
      "40/40 [==============================] - 0s 2ms/step - loss: 2.8028e-04\n",
      "Epoch 68/200\n",
      "40/40 [==============================] - 0s 2ms/step - loss: 2.6487e-04\n",
      "Epoch 69/200\n",
      "40/40 [==============================] - 0s 2ms/step - loss: 2.5021e-04\n",
      "Epoch 70/200\n",
      "40/40 [==============================] - 0s 2ms/step - loss: 2.3983e-04\n",
      "Epoch 71/200\n",
      "40/40 [==============================] - 0s 2ms/step - loss: 2.3281e-04\n",
      "Epoch 72/200\n",
      "40/40 [==============================] - 0s 2ms/step - loss: 2.2650e-04\n",
      "Epoch 73/200\n",
      "40/40 [==============================] - 0s 2ms/step - loss: 2.2165e-04\n",
      "Epoch 74/200\n",
      "40/40 [==============================] - 0s 2ms/step - loss: 2.1812e-04\n",
      "Epoch 75/200\n",
      "40/40 [==============================] - 0s 2ms/step - loss: 2.1523e-04\n",
      "Epoch 76/200\n",
      "40/40 [==============================] - 0s 2ms/step - loss: 2.1321e-04\n",
      "Epoch 77/200\n",
      "40/40 [==============================] - 0s 2ms/step - loss: 2.1431e-04\n",
      "Epoch 78/200\n",
      "40/40 [==============================] - 0s 2ms/step - loss: 2.1156e-04\n",
      "Epoch 79/200\n",
      "40/40 [==============================] - 0s 2ms/step - loss: 2.1123e-04\n",
      "Epoch 80/200\n",
      "40/40 [==============================] - 0s 2ms/step - loss: 2.0940e-04\n",
      "Epoch 81/200\n",
      "40/40 [==============================] - 0s 2ms/step - loss: 2.0891e-04\n",
      "Epoch 82/200\n",
      "40/40 [==============================] - 0s 2ms/step - loss: 2.0848e-04\n",
      "Epoch 83/200\n",
      "40/40 [==============================] - 0s 2ms/step - loss: 2.0776e-04\n",
      "Epoch 84/200\n",
      "40/40 [==============================] - 0s 2ms/step - loss: 2.0877e-04\n",
      "Epoch 85/200\n",
      "40/40 [==============================] - 0s 2ms/step - loss: 2.0732e-04\n",
      "Epoch 86/200\n",
      "40/40 [==============================] - 0s 2ms/step - loss: 2.0745e-04\n",
      "Epoch 87/200\n",
      "40/40 [==============================] - 0s 2ms/step - loss: 2.0767e-04\n",
      "Epoch 88/200\n",
      "40/40 [==============================] - 0s 2ms/step - loss: 2.0662e-04\n",
      "Epoch 89/200\n",
      "40/40 [==============================] - 0s 2ms/step - loss: 2.0601e-04\n",
      "Epoch 90/200\n",
      "40/40 [==============================] - 0s 2ms/step - loss: 2.0749e-04\n",
      "Epoch 91/200\n",
      "40/40 [==============================] - 0s 1ms/step - loss: 2.0518e-04\n",
      "Epoch 92/200\n",
      "40/40 [==============================] - 0s 2ms/step - loss: 2.0643e-04\n",
      "Epoch 93/200\n",
      "40/40 [==============================] - 0s 2ms/step - loss: 2.0454e-04\n",
      "Epoch 94/200\n",
      "40/40 [==============================] - 0s 2ms/step - loss: 2.0655e-04\n",
      "Epoch 95/200\n",
      "40/40 [==============================] - 0s 2ms/step - loss: 2.0451e-04\n",
      "Epoch 96/200\n",
      "40/40 [==============================] - 0s 2ms/step - loss: 2.0338e-04\n",
      "Epoch 97/200\n",
      "40/40 [==============================] - 0s 2ms/step - loss: 2.0332e-04\n",
      "Epoch 98/200\n",
      "40/40 [==============================] - 0s 2ms/step - loss: 2.0298e-04\n",
      "Epoch 99/200\n",
      "40/40 [==============================] - 0s 2ms/step - loss: 2.0324e-04\n",
      "Epoch 100/200\n"
     ]
    },
    {
     "name": "stdout",
     "output_type": "stream",
     "text": [
      "40/40 [==============================] - 0s 2ms/step - loss: 2.0186e-04\n",
      "Epoch 101/200\n",
      "40/40 [==============================] - 0s 2ms/step - loss: 2.0164e-04\n",
      "Epoch 102/200\n",
      "40/40 [==============================] - 0s 2ms/step - loss: 2.0153e-04\n",
      "Epoch 103/200\n",
      "40/40 [==============================] - 0s 2ms/step - loss: 2.0148e-04\n",
      "Epoch 104/200\n",
      "40/40 [==============================] - 0s 2ms/step - loss: 2.0049e-04\n",
      "Epoch 105/200\n",
      "40/40 [==============================] - 0s 2ms/step - loss: 2.0135e-04\n",
      "Epoch 106/200\n",
      "40/40 [==============================] - 0s 2ms/step - loss: 2.0085e-04\n",
      "Epoch 107/200\n",
      "40/40 [==============================] - 0s 2ms/step - loss: 2.0006e-04\n",
      "Epoch 108/200\n",
      "40/40 [==============================] - 0s 2ms/step - loss: 1.9923e-04\n",
      "Epoch 109/200\n",
      "40/40 [==============================] - 0s 2ms/step - loss: 1.9842e-04\n",
      "Epoch 110/200\n",
      "40/40 [==============================] - 0s 2ms/step - loss: 1.9837e-04\n",
      "Epoch 111/200\n",
      "40/40 [==============================] - 0s 2ms/step - loss: 1.9731e-04\n",
      "Epoch 112/200\n",
      "40/40 [==============================] - 0s 2ms/step - loss: 1.9743e-04\n",
      "Epoch 113/200\n",
      "40/40 [==============================] - 0s 2ms/step - loss: 1.9681e-04\n",
      "Epoch 114/200\n",
      "40/40 [==============================] - 0s 2ms/step - loss: 1.9732e-04\n",
      "Epoch 115/200\n",
      "40/40 [==============================] - 0s 2ms/step - loss: 1.9697e-04\n",
      "Epoch 116/200\n",
      "40/40 [==============================] - 0s 2ms/step - loss: 1.9633e-04\n",
      "Epoch 117/200\n",
      "40/40 [==============================] - 0s 2ms/step - loss: 1.9526e-04\n",
      "Epoch 118/200\n",
      "40/40 [==============================] - 0s 2ms/step - loss: 1.9486e-04\n",
      "Epoch 119/200\n",
      "40/40 [==============================] - 0s 2ms/step - loss: 1.9684e-04\n",
      "Epoch 120/200\n",
      "40/40 [==============================] - 0s 2ms/step - loss: 1.9598e-04\n",
      "Epoch 121/200\n",
      "40/40 [==============================] - 0s 2ms/step - loss: 1.9517e-04\n",
      "Epoch 122/200\n",
      "40/40 [==============================] - 0s 2ms/step - loss: 1.9399e-04\n",
      "Epoch 123/200\n",
      "40/40 [==============================] - 0s 2ms/step - loss: 1.9404e-04\n",
      "Epoch 124/200\n",
      "40/40 [==============================] - 0s 2ms/step - loss: 1.9334e-04\n",
      "Epoch 125/200\n",
      "40/40 [==============================] - 0s 2ms/step - loss: 1.9958e-04\n",
      "Epoch 126/200\n",
      "40/40 [==============================] - 0s 2ms/step - loss: 1.9259e-04\n",
      "Epoch 127/200\n",
      "40/40 [==============================] - 0s 2ms/step - loss: 1.9102e-04\n",
      "Epoch 128/200\n",
      "40/40 [==============================] - 0s 2ms/step - loss: 1.9508e-04\n",
      "Epoch 129/200\n",
      "40/40 [==============================] - 0s 1ms/step - loss: 1.9072e-04\n",
      "Epoch 130/200\n",
      "40/40 [==============================] - 0s 2ms/step - loss: 1.9124e-04\n",
      "Epoch 131/200\n",
      "40/40 [==============================] - 0s 2ms/step - loss: 1.8999e-04\n",
      "Epoch 132/200\n",
      "40/40 [==============================] - 0s 1ms/step - loss: 1.8929e-04\n",
      "Epoch 133/200\n",
      "40/40 [==============================] - 0s 2ms/step - loss: 1.8992e-04\n",
      "Epoch 134/200\n",
      "40/40 [==============================] - 0s 2ms/step - loss: 1.8946e-04\n",
      "Epoch 135/200\n",
      "40/40 [==============================] - 0s 1ms/step - loss: 1.8836e-04\n",
      "Epoch 136/200\n",
      "40/40 [==============================] - 0s 2ms/step - loss: 1.8748e-04\n",
      "Epoch 137/200\n",
      "40/40 [==============================] - 0s 2ms/step - loss: 1.8847e-04\n",
      "Epoch 138/200\n",
      "40/40 [==============================] - 0s 2ms/step - loss: 1.8903e-04\n",
      "Epoch 139/200\n",
      "40/40 [==============================] - 0s 2ms/step - loss: 1.8724e-04\n",
      "Epoch 140/200\n",
      "40/40 [==============================] - 0s 2ms/step - loss: 1.8689e-04\n",
      "Epoch 141/200\n",
      "40/40 [==============================] - 0s 2ms/step - loss: 1.8534e-04\n",
      "Epoch 142/200\n",
      "40/40 [==============================] - 0s 2ms/step - loss: 1.8785e-04\n",
      "Epoch 143/200\n",
      "40/40 [==============================] - 0s 2ms/step - loss: 1.8674e-04\n",
      "Epoch 144/200\n",
      "40/40 [==============================] - 0s 2ms/step - loss: 1.8640e-04\n",
      "Epoch 145/200\n",
      "40/40 [==============================] - 0s 2ms/step - loss: 1.8611e-04\n",
      "Epoch 146/200\n",
      "40/40 [==============================] - 0s 2ms/step - loss: 1.8372e-04\n",
      "Epoch 147/200\n",
      "40/40 [==============================] - 0s 2ms/step - loss: 1.8379e-04\n",
      "Epoch 148/200\n",
      "40/40 [==============================] - 0s 2ms/step - loss: 1.8523e-04\n",
      "Epoch 149/200\n",
      "40/40 [==============================] - 0s 2ms/step - loss: 1.8328e-04\n",
      "Epoch 150/200\n",
      "40/40 [==============================] - 0s 2ms/step - loss: 1.8292e-04\n",
      "Epoch 151/200\n",
      "40/40 [==============================] - 0s 2ms/step - loss: 1.8286e-04\n",
      "Epoch 152/200\n",
      "40/40 [==============================] - 0s 2ms/step - loss: 1.8379e-04\n",
      "Epoch 153/200\n",
      "40/40 [==============================] - 0s 2ms/step - loss: 1.8324e-04\n",
      "Epoch 154/200\n",
      "40/40 [==============================] - 0s 2ms/step - loss: 1.8455e-04\n",
      "Epoch 155/200\n",
      "40/40 [==============================] - 0s 2ms/step - loss: 1.8006e-04\n",
      "Epoch 156/200\n",
      "40/40 [==============================] - 0s 2ms/step - loss: 1.8067e-04\n",
      "Epoch 157/200\n",
      "40/40 [==============================] - 0s 2ms/step - loss: 1.8160e-04\n",
      "Epoch 158/200\n",
      "40/40 [==============================] - 0s 2ms/step - loss: 1.8091e-04\n",
      "Epoch 159/200\n",
      "40/40 [==============================] - 0s 2ms/step - loss: 1.8010e-04\n",
      "Epoch 160/200\n",
      "40/40 [==============================] - 0s 2ms/step - loss: 1.7841e-04\n",
      "Epoch 161/200\n",
      "40/40 [==============================] - 0s 1ms/step - loss: 1.8570e-04\n",
      "Epoch 162/200\n",
      "40/40 [==============================] - 0s 2ms/step - loss: 1.8126e-04\n",
      "Epoch 163/200\n",
      "40/40 [==============================] - 0s 2ms/step - loss: 1.7764e-04\n",
      "Epoch 164/200\n",
      "40/40 [==============================] - 0s 2ms/step - loss: 1.7770e-04\n",
      "Epoch 165/200\n",
      "40/40 [==============================] - 0s 2ms/step - loss: 1.7898e-04\n",
      "Epoch 166/200\n",
      "40/40 [==============================] - 0s 2ms/step - loss: 1.7747e-04\n",
      "Epoch 167/200\n",
      "40/40 [==============================] - 0s 2ms/step - loss: 1.7982e-04\n",
      "Epoch 168/200\n",
      "40/40 [==============================] - 0s 2ms/step - loss: 1.7981e-04\n",
      "Epoch 169/200\n",
      "40/40 [==============================] - 0s 2ms/step - loss: 1.7700e-04\n",
      "Epoch 170/200\n",
      "40/40 [==============================] - 0s 2ms/step - loss: 1.7735e-04\n",
      "Epoch 171/200\n",
      "40/40 [==============================] - 0s 2ms/step - loss: 1.7688e-04\n",
      "Epoch 172/200\n",
      "40/40 [==============================] - 0s 2ms/step - loss: 1.7755e-04\n",
      "Epoch 173/200\n",
      "40/40 [==============================] - 0s 2ms/step - loss: 1.7660e-04\n",
      "Epoch 174/200\n",
      "40/40 [==============================] - 0s 2ms/step - loss: 1.7442e-04\n",
      "Epoch 175/200\n",
      "40/40 [==============================] - 0s 2ms/step - loss: 1.7563e-04\n",
      "Epoch 176/200\n",
      "40/40 [==============================] - 0s 2ms/step - loss: 1.7670e-04\n",
      "Epoch 177/200\n",
      "40/40 [==============================] - 0s 2ms/step - loss: 1.7838e-04\n",
      "Epoch 178/200\n",
      "40/40 [==============================] - 0s 2ms/step - loss: 1.7486e-04\n",
      "Epoch 179/200\n",
      "40/40 [==============================] - 0s 2ms/step - loss: 1.7389e-04\n",
      "Epoch 180/200\n",
      "40/40 [==============================] - 0s 2ms/step - loss: 1.7290e-04\n",
      "Epoch 181/200\n",
      "40/40 [==============================] - 0s 2ms/step - loss: 1.7296e-04\n",
      "Epoch 182/200\n",
      "40/40 [==============================] - 0s 2ms/step - loss: 1.7296e-04\n",
      "Epoch 183/200\n",
      "40/40 [==============================] - 0s 2ms/step - loss: 1.7631e-04\n",
      "Epoch 184/200\n",
      "40/40 [==============================] - 0s 2ms/step - loss: 1.7415e-04\n",
      "Epoch 185/200\n",
      "40/40 [==============================] - 0s 2ms/step - loss: 1.7426e-04\n",
      "Epoch 186/200\n",
      "40/40 [==============================] - 0s 2ms/step - loss: 1.7289e-04\n",
      "Epoch 187/200\n",
      "40/40 [==============================] - 0s 2ms/step - loss: 1.7501e-04\n",
      "Epoch 188/200\n",
      "40/40 [==============================] - 0s 2ms/step - loss: 1.7457e-04\n",
      "Epoch 189/200\n",
      "40/40 [==============================] - 0s 2ms/step - loss: 1.7093e-04\n",
      "Epoch 190/200\n",
      "40/40 [==============================] - 0s 2ms/step - loss: 1.7237e-04\n",
      "Epoch 191/200\n",
      "40/40 [==============================] - 0s 2ms/step - loss: 1.7083e-04\n",
      "Epoch 192/200\n",
      "40/40 [==============================] - 0s 2ms/step - loss: 1.7438e-04\n",
      "Epoch 193/200\n",
      "40/40 [==============================] - 0s 2ms/step - loss: 1.7397e-04\n",
      "Epoch 194/200\n",
      "40/40 [==============================] - 0s 2ms/step - loss: 1.7375e-04\n",
      "Epoch 195/200\n",
      "40/40 [==============================] - 0s 2ms/step - loss: 1.7204e-04\n",
      "Epoch 196/200\n",
      "40/40 [==============================] - 0s 2ms/step - loss: 1.7146e-04\n",
      "Epoch 197/200\n",
      "40/40 [==============================] - 0s 2ms/step - loss: 1.7220e-04\n",
      "Epoch 198/200\n",
      "40/40 [==============================] - 0s 2ms/step - loss: 1.7152e-04\n",
      "Epoch 199/200\n",
      "40/40 [==============================] - 0s 2ms/step - loss: 1.7022e-04\n",
      "Epoch 200/200\n",
      "40/40 [==============================] - 0s 2ms/step - loss: 1.7229e-04\n"
     ]
    },
    {
     "data": {
      "text/plain": [
       "<keras.callbacks.History at 0x18b346fc7f0>"
      ]
     },
     "execution_count": 22,
     "metadata": {},
     "output_type": "execute_result"
    }
   ],
   "source": [
    "model = Sequential()\n",
    "model.add(LSTM(4, activation= 'sigmoid', input_shape= (None,1)))\n",
    "model.add(Dense(1))\n",
    "model.compile(optimizer='adam', loss='mean_squared_error')\n",
    "model.fit(x_train, y_train, batch_size=32, epochs=200)"
   ]
  },
  {
   "cell_type": "code",
   "execution_count": 23,
   "id": "4f8df099",
   "metadata": {},
   "outputs": [],
   "source": [
    "# testset\n",
    "test_set = pd.read_csv('testset.csv')\n",
    "real_stock_price = test_set.iloc[:,1:2].values"
   ]
  },
  {
   "cell_type": "code",
   "execution_count": 24,
   "id": "4796c52a",
   "metadata": {},
   "outputs": [
    {
     "data": {
      "text/plain": [
       "(125, 1)"
      ]
     },
     "execution_count": 24,
     "metadata": {},
     "output_type": "execute_result"
    }
   ],
   "source": [
    "real_stock_price.shape"
   ]
  },
  {
   "cell_type": "code",
   "execution_count": 25,
   "id": "82996c00",
   "metadata": {},
   "outputs": [],
   "source": [
    "inputs = real_stock_price\n",
    "inputs = sc.transform(inputs)\n",
    "inputs = np.reshape(inputs, (125 , 1, 1))"
   ]
  },
  {
   "cell_type": "code",
   "execution_count": 26,
   "id": "29922c7d",
   "metadata": {},
   "outputs": [
    {
     "name": "stdout",
     "output_type": "stream",
     "text": [
      "4/4 [==============================] - 0s 2ms/step\n"
     ]
    }
   ],
   "source": [
    "prediction = model.predict(inputs)\n",
    "prediction = sc.inverse_transform(prediction)"
   ]
  },
  {
   "cell_type": "code",
   "execution_count": 27,
   "id": "551395b4",
   "metadata": {},
   "outputs": [
    {
     "data": {
      "text/plain": [
       "array([[1037.4772 ],\n",
       "       [1051.254  ],\n",
       "       [1071.3564 ],\n",
       "       [1076.3837 ],\n",
       "       [1083.2363 ],\n",
       "       [1089.1658 ],\n",
       "       [1078.9707 ],\n",
       "       [1086.6068 ],\n",
       "       [1083.3856 ],\n",
       "       [1108.0171 ],\n",
       "       [1102.9257 ],\n",
       "       [1107.1288 ],\n",
       "       [1107.468  ],\n",
       "       [1112.0267 ],\n",
       "       [1129.7991 ],\n",
       "       [1143.4264 ],\n",
       "       [1139.7078 ],\n",
       "       [1141.6855 ],\n",
       "       [1142.7692 ],\n",
       "       [1136.0493 ],\n",
       "       [1138.1841 ],\n",
       "       [1131.9663 ],\n",
       "       [1099.4933 ],\n",
       "       [1073.5382 ],\n",
       "       [1018.951  ],\n",
       "       [1065.9148 ],\n",
       "       [1043.5984 ],\n",
       "       [1010.15216],\n",
       "       [1037.1821 ],\n",
       "       [1034.5735 ],\n",
       "       [1038.0067 ],\n",
       "       [1063.8262 ],\n",
       "       [1071.7009 ],\n",
       "       [1073.513  ],\n",
       "       [1086.7472 ],\n",
       "       [1094.7458 ],\n",
       "       [1091.8326 ],\n",
       "       [1104.2075 ],\n",
       "       [1115.0338 ],\n",
       "       [1100.3324 ],\n",
       "       [1087.9037 ],\n",
       "       [1041.5848 ],\n",
       "       [1060.4939 ],\n",
       "       [1080.7358 ],\n",
       "       [1072.3556 ],\n",
       "       [1094.0326 ],\n",
       "       [1110.829  ],\n",
       "       [1132.9381 ],\n",
       "       [1137.7406 ],\n",
       "       [1118.2057 ],\n",
       "       [1121.985  ],\n",
       "       [1125.2968 ],\n",
       "       [1097.8701 ],\n",
       "       [1080.5529 ],\n",
       "       [1075.3302 ],\n",
       "       [1066.2019 ],\n",
       "       [1036.3392 ],\n",
       "       [1035.4437 ],\n",
       "       [1050.1306 ],\n",
       "       [ 992.9097 ],\n",
       "       [1005.14343],\n",
       "       [1015.09595],\n",
       "       [1007.17804],\n",
       "       [ 988.7629 ],\n",
       "       [1031.3737 ],\n",
       "       [1012.5955 ],\n",
       "       [1009.75195],\n",
       "       [1018.2975 ],\n",
       "       [1019.6658 ],\n",
       "       [1017.0604 ],\n",
       "       [1030.9807 ],\n",
       "       [1027.5868 ],\n",
       "       [1040.1047 ],\n",
       "       [1062.437  ],\n",
       "       [1055.607  ],\n",
       "       [1066.3032 ],\n",
       "       [1062.8014 ],\n",
       "       [1040.6504 ],\n",
       "       [1017.4848 ],\n",
       "       [1021.0059 ],\n",
       "       [1035.4437 ],\n",
       "       [1021.4465 ],\n",
       "       [1006.955  ],\n",
       "       [1019.7629 ],\n",
       "       [1011.70764],\n",
       "       [1009.8409 ],\n",
       "       [1038.2496 ],\n",
       "       [1046.297  ],\n",
       "       [1045.9181 ],\n",
       "       [1069.7002 ],\n",
       "       [1076.0493 ],\n",
       "       [1081.3845 ],\n",
       "       [1073.035  ],\n",
       "       [1062.3352 ],\n",
       "       [1064.52   ],\n",
       "       [1049.152  ],\n",
       "       [1059.5762 ],\n",
       "       [1067.6196 ],\n",
       "       [1051.9564 ],\n",
       "       [1063.7668 ],\n",
       "       [1063.7839 ],\n",
       "       [1051.7509 ],\n",
       "       [1050.1562 ],\n",
       "       [1054.0355 ],\n",
       "       [1080.8439 ],\n",
       "       [1099.7622 ],\n",
       "       [1114.8337 ],\n",
       "       [1115.778  ],\n",
       "       [1107.056  ],\n",
       "       [1096.3748 ],\n",
       "       [1096.7181 ],\n",
       "       [1106.854  ],\n",
       "       [1114.9377 ],\n",
       "       [1117.1205 ],\n",
       "       [1121.1115 ],\n",
       "       [1116.9608 ],\n",
       "       [1128.7369 ],\n",
       "       [1141.8638 ],\n",
       "       [1141.5073 ],\n",
       "       [1129.2406 ],\n",
       "       [1116.9208 ],\n",
       "       [1104.3695 ],\n",
       "       [1098.9553 ],\n",
       "       [1083.1201 ],\n",
       "       [1097.8618 ]], dtype=float32)"
      ]
     },
     "execution_count": 27,
     "metadata": {},
     "output_type": "execute_result"
    }
   ],
   "source": [
    "prediction"
   ]
  },
  {
   "cell_type": "code",
   "execution_count": 28,
   "id": "f8a47570",
   "metadata": {},
   "outputs": [
    {
     "data": {
      "text/plain": [
       "<matplotlib.legend.Legend at 0x18b368e9760>"
      ]
     },
     "execution_count": 28,
     "metadata": {},
     "output_type": "execute_result"
    },
    {
     "data": {
      "image/png": "[encoded data removed]",
      "text/plain": [
       "<Figure size 432x288 with 1 Axes>"
      ]
     },
     "metadata": {
      "needs_background": "light"
     },
     "output_type": "display_data"
    }
   ],
   "source": [
    "plt.plot( real_stock_price , color = 'red' , label = 'Real Price')\n",
    "plt.plot( prediction , color = 'blue' , label = 'Predicted Price')\n",
    "plt.title('Google Stock Price Prediction')\n",
    "plt.legend()"
   ]
  },
  {
   "cell_type": "code",
   "execution_count": null,
   "id": "f4a32c40",
   "metadata": {},
   "outputs": [],
   "source": []
  }
 ],
 "metadata": {
  "kernelspec": {
   "display_name": "Python 3 (ipykernel)",
   "language": "python",
   "name": "python3"
  },
  "language_info": {
   "codemirror_mode": {
    "name": "ipython",
    "version": 3
   },
   "file_extension": ".py",
   "mimetype": "text/x-python",
   "name": "python",
   "nbconvert_exporter": "python",
   "pygments_lexer": "ipython3",
   "version": "3.8.8"
  }
 },
 "nbformat": 4,
 "nbformat_minor": 5
}
