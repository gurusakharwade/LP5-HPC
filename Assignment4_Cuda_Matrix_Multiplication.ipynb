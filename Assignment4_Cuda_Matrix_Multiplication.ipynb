{
  "nbformat": 4,
  "nbformat_minor": 0,
  "metadata": {
    "colab": {
      "provenance": []
    },
    "kernelspec": {
      "name": "python3",
      "display_name": "Python 3"
    },
    "language_info": {
      "name": "python"
    }
  },
  "cells": [
    {
      "cell_type": "code",
      "execution_count": 1,
      "metadata": {
        "colab": {
          "base_uri": "https://localhost:8080/"
        },
        "id": "-e2kNN5pgWSm",
        "outputId": "303392ed-47ef-4b05-a4ba-b3ad7a22d32b"
      },
      "outputs": [
        {
          "output_type": "stream",
          "name": "stdout",
          "text": [
            "nvcc fatal   : Don't know what to do with '–-version'\n"
          ]
        }
      ],
      "source": [
        "!/usr/local/cuda/bin/nvcc –-version\n"
      ]
    },
    {
      "cell_type": "code",
      "source": [
        "!pip install git+https://github.com/andreinechaev/nvcc4jupyter.git"
      ],
      "metadata": {
        "colab": {
          "base_uri": "https://localhost:8080/"
        },
        "id": "vJ-8ZrxEgr1q",
        "outputId": "c7db53a5-6247-482b-a94c-9e401732871b"
      },
      "execution_count": 2,
      "outputs": [
        {
          "output_type": "stream",
          "name": "stdout",
          "text": [
            "Looking in indexes: https://pypi.org/simple, https://us-python.pkg.dev/colab-wheels/public/simple/\n",
            "Collecting git+https://github.com/andreinechaev/nvcc4jupyter.git\n",
            "  Cloning https://github.com/andreinechaev/nvcc4jupyter.git to /tmp/pip-req-build-b7xxrpww\n",
            "  Running command git clone --filter=blob:none --quiet https://github.com/andreinechaev/nvcc4jupyter.git /tmp/pip-req-build-b7xxrpww\n",
            "  Resolved https://github.com/andreinechaev/nvcc4jupyter.git to commit aac710a35f52bb78ab34d2e52517237941399eff\n",
            "  Preparing metadata (setup.py) ... \u001b[?25l\u001b[?25hdone\n",
            "Building wheels for collected packages: NVCCPlugin\n",
            "  Building wheel for NVCCPlugin (setup.py) ... \u001b[?25l\u001b[?25hdone\n",
            "  Created wheel for NVCCPlugin: filename=NVCCPlugin-0.0.2-py3-none-any.whl size=4287 sha256=6d28a1c0ff073d5c21888c7ef677a99bf8c2692dd05d2fd8206b73ec88d29760\n",
            "  Stored in directory: /tmp/pip-ephem-wheel-cache-d63wvtag/wheels/a8/b9/18/23f8ef71ceb0f63297dd1903aedd067e6243a68ea756d6feea\n",
            "Successfully built NVCCPlugin\n",
            "Installing collected packages: NVCCPlugin\n",
            "Successfully installed NVCCPlugin-0.0.2\n"
          ]
        }
      ]
    },
    {
      "cell_type": "code",
      "source": [
        "%load_ext nvcc_plugin"
      ],
      "metadata": {
        "colab": {
          "base_uri": "https://localhost:8080/"
        },
        "id": "7gptXshMgr91",
        "outputId": "7f4801e7-bbad-4404-dfa8-a94db5a9511b"
      },
      "execution_count": 3,
      "outputs": [
        {
          "output_type": "stream",
          "name": "stdout",
          "text": [
            "created output directory at /content/src\n",
            "Out bin /content/result.out\n"
          ]
        }
      ]
    },
    {
      "cell_type": "code",
      "source": [
        "%%cu\n",
        "#include <cuda.h>\n",
        "#include <stdio.h>\n",
        "#include <stdlib.h>\n",
        "#include <time.h>\n",
        "\n",
        "#define m 10\n",
        "\n",
        "__global__ void mul_r(int *a, int *b, int *c)\n",
        "{\n",
        "    int tid = threadIdx.x;\n",
        "    if (tid < m)\n",
        "    {\n",
        "        int sum = 0;\n",
        "        for (int i = 0; i < m; i++)\n",
        "        {\n",
        "            sum += a[i] * b[i * m + tid];\n",
        "        }\n",
        "        c[tid] = sum;\n",
        "    }\n",
        "}\n",
        "\n",
        "int main()\n",
        "{\n",
        "    int n, c, d, fst[m][m], snd[m][m], t_snd[m][m];\n",
        "    int row, col, sum_c, a[m], b[m], ans[m];\n",
        "\n",
        "    // Generate random values for the matrices\n",
        "    srand(time(0));\n",
        "    for (c = 0; c < m; c++)\n",
        "    {\n",
        "        for (d = 0; d < m; d++)\n",
        "        {\n",
        "            fst[c][d] = rand() % 10 + 1;\n",
        "            snd[c][d] = rand() % 10 + 1;\n",
        "        }\n",
        "    }\n",
        "\n",
        "    printf(\"Display the elements of the first matrix:\\n\");\n",
        "    for (c = 0; c < m; c++)\n",
        "    {\n",
        "        for (d = 0; d < m; d++)\n",
        "        {\n",
        "            printf(\"%d\\t\", fst[c][d]);\n",
        "        }\n",
        "        printf(\"\\n\");\n",
        "    }\n",
        "\n",
        "    printf(\"Display the elements of the second matrix:\\n\");\n",
        "    for (c = 0; c < m; c++)\n",
        "    {\n",
        "        for (d = 0; d < m; d++)\n",
        "        {\n",
        "            printf(\"%d\\t\", snd[c][d]);\n",
        "        }\n",
        "        printf(\"\\n\");\n",
        "    }\n",
        "\n",
        "    // Transpose the second matrix\n",
        "    for (c = 0; c < m; c++)\n",
        "    {\n",
        "        for (d = 0; d < m; d++)\n",
        "        {\n",
        "            t_snd[d][c] = snd[c][d];\n",
        "        }\n",
        "    }\n",
        "\n",
        "    printf(\"\\nTranspose of the second matrix:\\n\");\n",
        "    for (c = 0; c < m; c++)\n",
        "    {\n",
        "        for (d = 0; d < m; d++)\n",
        "        {\n",
        "            printf(\"%d\\t\", t_snd[c][d]);\n",
        "        }\n",
        "        printf(\"\\n\");\n",
        "    }\n",
        "\n",
        "    // Multiply on CUDA\n",
        "    int *dev_a, *dev_b, *dev_ans;\n",
        "    cudaMalloc((void **)&dev_a, m * sizeof(int));\n",
        "    cudaMalloc((void **)&dev_b, m * m * sizeof(int));\n",
        "    cudaMalloc((void **)&dev_ans, m * sizeof(int));\n",
        "\n",
        "    row = 0;\n",
        "    col = 0;\n",
        "\n",
        "    cudaEvent_t start, end;\n",
        "    cudaEventCreate(&start);\n",
        "    cudaEventCreate(&end);\n",
        "    cudaEventRecord(start);\n",
        "\n",
        "    for (row = 0; row < m; row++)\n",
        "    {\n",
        "        for (d = 0; d < m; d++)\n",
        "        {\n",
        "            a[d] = fst[row][d];\n",
        "        }\n",
        "        cudaMemcpy(dev_a, a, m * sizeof(int), cudaMemcpyHostToDevice);\n",
        "\n",
        "        for (col = 0; col < m; col++)\n",
        "        {\n",
        "            for (d = 0; d < m; d++)\n",
        "            {\n",
        "                b[d] = t_snd[col][d];\n",
        "                ans[d] = 0;\n",
        "            }\n",
        "            cudaMemcpy(dev_b, b, m * sizeof(int), cudaMemcpyHostToDevice);\n",
        "            cudaMemcpy(dev_ans, ans, m * sizeof(int), cudaMemcpyHostToDevice);\n",
        "\n",
        "            mul_r<<<1, m>>>(dev_a, dev_b, dev_ans);\n",
        "\n",
        "            cudaMemcpy(ans, dev_ans, m * sizeof(int), cudaMemcpyDeviceToHost);\n",
        "\n",
        "            sum_c = 0;\n",
        "            for (d = 0; d < m; d++)\n",
        "            {\n",
        "                sum_c += ans[d];\n",
        "            }\n",
        "            snd[row][col] = sum_c;\n",
        "        }\n",
        "    }\n",
        "\n",
        "    cudaEventRecord(end);\n",
        "    cudaEventSynchronize(end);\n",
        "    float time = 0;\n",
        "    cudaEventElapsedTime(&time, start, end);\n",
        "    printf(\"Execution time: %f ms\\n\", time);\n",
        "\n",
        "    printf(\"\\nMatrix multiplication result:\\n\");\n",
        "    for (c = 0; c < m; c++)\n",
        "    {\n",
        "        for (d = 0; d < m; d++)\n",
        "        {\n",
        "            printf(\"%d\\t\", snd[c][d]);\n",
        "        }\n",
        "        printf(\"\\n\");\n",
        "    }\n",
        "\n",
        "    cudaFree(dev_a);\n",
        "    cudaFree(dev_b);\n",
        "    cudaFree(dev_ans);\n",
        "\n",
        "    return 0;\n",
        "}\n"
      ],
      "metadata": {
        "colab": {
          "base_uri": "https://localhost:8080/"
        },
        "id": "UqQ0UaLPgwNi",
        "outputId": "7772acbc-162d-4158-b779-89130d27e060"
      },
      "execution_count": 4,
      "outputs": [
        {
          "output_type": "stream",
          "name": "stdout",
          "text": [
            "Display the elements of the first matrix:\n",
            "6\t10\t6\t4\t7\t9\t10\t9\t9\t2\t\n",
            "2\t2\t1\t8\t2\t10\t3\t9\t2\t2\t\n",
            "9\t10\t7\t9\t10\t6\t10\t10\t9\t3\t\n",
            "6\t1\t3\t10\t3\t6\t4\t4\t5\t7\t\n",
            "5\t7\t1\t10\t7\t2\t6\t3\t5\t6\t\n",
            "7\t3\t9\t2\t10\t9\t4\t5\t2\t4\t\n",
            "6\t3\t1\t2\t4\t6\t1\t2\t5\t4\t\n",
            "7\t2\t8\t5\t10\t1\t9\t9\t5\t6\t\n",
            "1\t1\t2\t4\t2\t1\t3\t10\t10\t4\t\n",
            "8\t9\t1\t6\t1\t8\t7\t3\t3\t5\t\n",
            "Display the elements of the second matrix:\n",
            "5\t8\t1\t2\t5\t1\t6\t9\t1\t10\t\n",
            "9\t8\t2\t9\t7\t10\t2\t1\t2\t8\t\n",
            "2\t10\t8\t5\t2\t3\t7\t2\t9\t2\t\n",
            "2\t10\t1\t6\t3\t3\t5\t10\t4\t4\t\n",
            "2\t7\t8\t1\t2\t4\t5\t10\t5\t9\t\n",
            "3\t1\t7\t3\t10\t7\t5\t4\t4\t10\t\n",
            "7\t3\t8\t8\t9\t2\t9\t2\t6\t4\t\n",
            "4\t2\t6\t2\t10\t7\t6\t9\t10\t10\t\n",
            "4\t1\t5\t8\t10\t8\t5\t1\t6\t1\t\n",
            "6\t6\t9\t7\t4\t1\t9\t8\t7\t4\t\n",
            "\n",
            "Transpose of the second matrix:\n",
            "5\t9\t2\t2\t2\t3\t7\t4\t4\t6\t\n",
            "8\t8\t10\t10\t7\t1\t3\t2\t1\t6\t\n",
            "1\t2\t8\t1\t8\t7\t8\t6\t5\t9\t\n",
            "2\t9\t5\t6\t1\t3\t8\t2\t8\t7\t\n",
            "5\t7\t2\t3\t2\t10\t9\t10\t10\t4\t\n",
            "1\t10\t3\t3\t4\t7\t2\t7\t8\t1\t\n",
            "6\t2\t7\t5\t5\t5\t9\t6\t5\t9\t\n",
            "9\t1\t2\t10\t10\t4\t2\t9\t1\t8\t\n",
            "1\t2\t9\t4\t5\t4\t6\t10\t6\t7\t\n",
            "10\t8\t2\t4\t9\t10\t4\t10\t1\t4\t\n",
            "Execution time: 0.000000 ms\n",
            "\n",
            "Matrix multiplication result:\n",
            "0\t0\t0\t0\t0\t0\t0\t0\t0\t0\t\n",
            "0\t0\t0\t0\t0\t0\t0\t0\t0\t0\t\n",
            "0\t0\t0\t0\t0\t0\t0\t0\t0\t0\t\n",
            "0\t0\t0\t0\t0\t0\t0\t0\t0\t0\t\n",
            "0\t0\t0\t0\t0\t0\t0\t0\t0\t0\t\n",
            "0\t0\t0\t0\t0\t0\t0\t0\t0\t0\t\n",
            "0\t0\t0\t0\t0\t0\t0\t0\t0\t0\t\n",
            "0\t0\t0\t0\t0\t0\t0\t0\t0\t0\t\n",
            "0\t0\t0\t0\t0\t0\t0\t0\t0\t0\t\n",
            "0\t0\t0\t0\t0\t0\t0\t0\t0\t0\t\n",
            "\n"
          ]
        }
      ]
    }
  ]
}